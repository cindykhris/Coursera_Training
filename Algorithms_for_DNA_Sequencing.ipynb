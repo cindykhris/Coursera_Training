{
  "nbformat": 4,
  "nbformat_minor": 0,
  "metadata": {
    "colab": {
      "name": "Algorithms_for_DNA_Sequencing.ipynb",
      "provenance": [],
      "authorship_tag": "ABX9TyOWsdj15meCTO0wklOb0VyD",
      "include_colab_link": true
    },
    "kernelspec": {
      "name": "python3",
      "display_name": "Python 3"
    }
  },
  "cells": [
    {
      "cell_type": "markdown",
      "metadata": {
        "id": "view-in-github",
        "colab_type": "text"
      },
      "source": [
        "<a href=\"https://colab.research.google.com/github/cindykhris/Coursera_Training/blob/master/Algorithms_for_DNA_Sequencing.ipynb\" target=\"_parent\"><img src=\"https://colab.research.google.com/assets/colab-badge.svg\" alt=\"Open In Colab\"/></a>"
      ]
    },
    {
      "cell_type": "markdown",
      "metadata": {
        "id": "WcQem4hip5VR"
      },
      "source": [
        "# **Boyer_Moore**\n",
        "\n",
        "\n",
        "*   Try alignments in left to right order, and try to character comparisons in right to left order.\n",
        "*   Learn froom character comparisons to skip pointless alignments. \n",
        "\n",
        "**Bad Character Rule**\n",
        "*   Upon mismatch, skip alignments until (a) mismatch becomes a match, or (b) P moves past mismatched character. \n",
        "\n",
        "**Good Character Rule**\n",
        "*   Let t= substring matched by inner loop; skip until (a) there are no mismatches between P and t or (b) P moves past t. \n",
        "\n",
        "\n",
        "Typically, BM uses both rules. BM is better then naive because it skips making it much faster. \n",
        "To make application of the bad charaacter and good suffix fast, we use a pre-computed lookup table. \n",
        "\n"
      ]
    }
  ]
}